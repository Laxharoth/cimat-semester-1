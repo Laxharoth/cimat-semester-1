{
 "cells": [
  {
   "cell_type": "code",
   "execution_count": 38,
   "metadata": {},
   "outputs": [],
   "source": [
    "from ast import main\n",
    "from operator import index\n",
    "import struct\n",
    "import numpy as np"
   ]
  },
  {
   "cell_type": "markdown",
   "metadata": {},
   "source": [
    "Obtener los vectores y valores propios de la matriz"
   ]
  },
  {
   "cell_type": "code",
   "execution_count": null,
   "metadata": {},
   "outputs": [],
   "source": [
    "m = np.identity(1000)\n",
    "for i in range(0,1000):\n",
    "    if i > 0:\n",
    "        m[i][i-1] = -1\n",
    "    m[i][i] = 2\n",
    "    if i < 999:\n",
    "        m[i][i+1] = -1\n",
    "vlas  =  np.linalg.eig(m)"
   ]
  },
  {
   "cell_type": "markdown",
   "metadata": {},
   "source": [
    "Guardar los valores y vectores propios (maximo y minimo)"
   ]
  },
  {
   "cell_type": "code",
   "execution_count": 39,
   "metadata": {},
   "outputs": [
    {
     "name": "stdout",
     "output_type": "stream",
     "text": [
      "max: 3.9999901501133346\n",
      "min: 9.849886677323234e-06\n"
     ]
    }
   ],
   "source": [
    "max_i = np.argmax(vlas[0])\n",
    "min_i = np.argmin(vlas[0])\n",
    "max_v = vlas[0][max_i]\n",
    "min_v = vlas[0][min_i]\n",
    "print(\"max:\",vlas[0][max_i])\n",
    "print(\"min:\",vlas[0][min_i])\n",
    "with open('max.py.vec', 'wb') as f:\n",
    "    data =  struct.pack('L',1000)\n",
    "    f.write(data)\n",
    "    for v in vlas[1][max_i]:\n",
    "        data =  struct.pack('d',np.float64(np.real(v)))\n",
    "        f.write(data)\n",
    "with open('min.py.vec', 'wb') as f:\n",
    "    data =  struct.pack('L',1000)\n",
    "    f.write(data)\n",
    "    for v in vlas[1][min_i]:\n",
    "        data =  struct.pack('d',np.float64(np.real(v)))\n",
    "        f.write(data)\n"
   ]
  },
  {
   "cell_type": "markdown",
   "metadata": {},
   "source": [
    "Obtener valores y vectores propios más parecidos a los valores propios obtenidos con la funcion jacobi_eigen"
   ]
  },
  {
   "cell_type": "code",
   "execution_count": 40,
   "metadata": {},
   "outputs": [
    {
     "name": "stdout",
     "output_type": "stream",
     "text": [
      "closest min aprox (856): 0.20909776131319724\n",
      "closest max aprox (142): 3.8046523053788075\n"
     ]
    }
   ],
   "source": [
    "min_closest_i = min(range(len(vlas[0])), key=lambda i: abs(vlas[0][i]-0.208991))\n",
    "max_closest_i = min(range(len(vlas[0])), key=lambda i: abs(vlas[0][i]-3.8049))\n",
    "max_closest = vlas[1][max_closest_i]\n",
    "min_closest = vlas[1][min_closest_i]\n",
    "max_closest_val = vlas[1][max_closest_i]\n",
    "min_closest_val = vlas[1][min_closest_i]\n",
    "min_closest_v = vlas[0][min_closest_i]\n",
    "max_closest_v = vlas[0][max_closest_i]\n",
    "print(f\"closest min aprox ({min_closest_i}):\",vlas[0][min_closest_i])\n",
    "print(f\"closest max aprox ({max_closest_i}):\",vlas[0][max_closest_i])"
   ]
  },
  {
   "cell_type": "markdown",
   "metadata": {},
   "source": [
    "Leer maximo y minimo obtenidos con la funcion jacobi_eigen"
   ]
  },
  {
   "cell_type": "code",
   "execution_count": 41,
   "metadata": {},
   "outputs": [],
   "source": [
    "max_aprox = None\n",
    "min_aprox = None\n",
    "with open('max.vec', 'rb') as f:\n",
    "    size, = struct.unpack(\"L\",f.read(struct.calcsize(\"L\")))\n",
    "    max_aprox = np.array([ 0.0 for i in range(size)])\n",
    "    for i in range(size):\n",
    "        t = struct.unpack('d',f.read(struct.calcsize('d')))\n",
    "        max_aprox[i] = t[0]\n",
    "with open('min.vec', 'rb') as f:\n",
    "    size, = struct.unpack(\"L\",f.read(struct.calcsize(\"L\")))\n",
    "    min_aprox = np.array([ 0.0 for i in range(size)])\n",
    "    for i in range(size):\n",
    "        min_aprox[i], = struct.unpack('d',f.read(struct.calcsize('d')))"
   ]
  },
  {
   "cell_type": "markdown",
   "metadata": {},
   "source": [
    "Comparar valores y vectores propios"
   ]
  },
  {
   "cell_type": "code",
   "execution_count": 43,
   "metadata": {},
   "outputs": [
    {
     "name": "stdout",
     "output_type": "stream",
     "text": [
      "values comparision\n",
      "difference between max and max aprox:0.19509015011333464\n",
      "difference between min and min aprox:0.2089811501133227\n",
      "difference max closest and max aprox:0.00024769462119245134\n",
      "difference min closest and min aprox:0.00010676131319722892\n",
      "vector comparision\n",
      "difference between max and max aprox:2.035195768238209\n",
      "difference between min and min aprox:2.0133708254966827\n",
      "difference max closest and max aprox:2.046156164847817\n",
      "difference min closest and min aprox:1.9858321706812287\n"
     ]
    }
   ],
   "source": [
    "import functools\n",
    "#values\n",
    "# max_v\n",
    "# min_v\n",
    "max_aprox_v = 3.8049\n",
    "min_aprox_v = 0.208991\n",
    "# max_closest_v\n",
    "# min_closest_v\n",
    "\n",
    "#vectors\n",
    "max_eig = vlas[1][max_i]\n",
    "min_eig = vlas[1][min_i]\n",
    "#max_aprox\n",
    "#min_aprox\n",
    "#max_closest\n",
    "#min_closest\n",
    "\n",
    "print(\"values comparision\")\n",
    "print(f\"difference between max and max aprox:{ abs(max_v - max_aprox_v) }\")\n",
    "print(f\"difference between min and min aprox:{ abs(min_v - min_aprox_v) }\")\n",
    "print(f\"difference max closest and max aprox:{ abs(max_closest_v - max_aprox_v) }\")\n",
    "print(f\"difference min closest and min aprox:{ abs(min_closest_v - min_aprox_v) }\")\n",
    "print(\"vector comparision\")\n",
    "print(f\"difference between max and max aprox:{ functools.reduce( lambda a,b:a+b*b,max_eig-max_aprox , 0) }\")\n",
    "print(f\"difference between min and min aprox:{ functools.reduce( lambda a,b:a+b*b,min_eig-min_aprox , 0) }\")\n",
    "print(f\"difference max closest and max aprox:{ functools.reduce( lambda a,b:a+b*b,max_closest-max_aprox , 0) }\")\n",
    "print(f\"difference min closest and min aprox:{ functools.reduce( lambda a,b:a+b*b,min_closest-min_aprox , 0) }\")\n"
   ]
  }
 ],
 "metadata": {
  "kernelspec": {
   "display_name": "Python 3.9.2 64-bit",
   "language": "python",
   "name": "python3"
  },
  "language_info": {
   "codemirror_mode": {
    "name": "ipython",
    "version": 3
   },
   "file_extension": ".py",
   "mimetype": "text/x-python",
   "name": "python",
   "nbconvert_exporter": "python",
   "pygments_lexer": "ipython3",
   "version": "3.9.2"
  },
  "orig_nbformat": 4,
  "vscode": {
   "interpreter": {
    "hash": "e7370f93d1d0cde622a1f8e1c04877d8463912d04d973331ad4851f04de6915a"
   }
  }
 },
 "nbformat": 4,
 "nbformat_minor": 2
}
