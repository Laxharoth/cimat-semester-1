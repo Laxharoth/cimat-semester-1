{
	"cells": [
		{
			"cell_type": "code",
			"execution_count": 1,
			"metadata": {},
			"outputs": [],
			"source": [
				"from ast import main\n",
				"from operator import index\n",
				"import struct\n",
				"import numpy as np"
			]
		},
		{
			"cell_type": "markdown",
			"metadata": {},
			"source": [
				"Initialize matrix from files"
			]
		},
		{
			"cell_type": "code",
			"execution_count": 10,
			"metadata": {},
			"outputs": [],
			"source": [
				"#eigen 3x3\n",
				"Eig3x3 = []\n",
				"with open(\"vector_in/Eigen_3x3.txt\",'r') as f:\n",
				"    #size of matrix\n",
				"    head = f.readline()\n",
				"    for line in f:\n",
				"        words = line.strip().split(' ')\n",
				"        Eig3x3.append( [ float(w) for w in words ] )\n",
				"    Eig3x3 = np.array(Eig3x3)\n",
				"\n",
				"#eigen 50x50\n",
				"Eig50x50 = []\n",
				"with open(\"vector_in/Eigen_50x50.txt\",'r') as f:\n",
				"    #size of matrix\n",
				"    head = f.readline()\n",
				"    for line in f:\n",
				"        words = line.strip().split(' ')\n",
				"        Eig50x50.append( [ float(w) for w in words ] )\n",
				"    Eig50x50 = np.array(Eig50x50)\n",
				"#M_sys_3x3\n",
				"M_sys_3x3 = []\n",
				"with open(\"vector_in/M_sys_3x3.txt\",'r') as f:\n",
				"    #size of matrix\n",
				"    head = f.readline()\n",
				"    for line in f:\n",
				"        words = line.strip().split(' ')\n",
				"        M_sys_3x3.append( [ float(w) for w in words ] )\n",
				"    M_sys_3x3 = np.array(M_sys_3x3)\n",
				"#M_sys_125x125\n",
				"M_sys_125x125 = []\n",
				"with open(\"vector_in/M_sys_125x125.txt\",'r') as f:\n",
				"    #size of matrix\n",
				"    head = f.readline()\n",
				"    for line in f:\n",
				"        words = line.strip().split(' ')\n",
				"        M_sys_125x125.append( [ float(w) for w in words ] )\n",
				"    M_sys_125x125 = np.array(M_sys_125x125)\n",
				"#V_sys_3x1\n",
				"V_sys_3x1 = []\n",
				"with open(\"vector_in/V_sys_3x1.txt\",'r') as f:\n",
				"    #size of matrix\n",
				"    head = f.readline()\n",
				"    for line in f:\n",
				"        words = line.strip().split(' ')\n",
				"        V_sys_3x1.append( [ float(w) for w in words ] )\n",
				"    V_sys_3x1 = np.array(V_sys_3x1)\n",
				"#V_sys_125x1\n",
				"V_sys_125x1 = []\n",
				"with open(\"vector_in/V_sys_125x1.txt\",'r') as f:\n",
				"    #size of matrix\n",
				"    head = f.readline()\n",
				"    for line in f:\n",
				"        words = line.strip().split(' ')\n",
				"        V_sys_125x1.append( [ float(w) for w in words ] )\n",
				"    V_sys_125x1 = np.array(V_sys_125x1)\n",
				"\n"
			]
		},
		{
			"cell_type": "code",
			"execution_count": 18,
			"metadata": {},
			"outputs": [],
			"source": [
				"#Eig3x3\n",
				"vlas  =  np.linalg.eig(Eig3x3)\n",
				"_zip = zip(vlas[0],vlas[1])\n",
				"vlas = tuple(zip(*sorted( _zip, key=lambda x: x[0])))\n",
				"#guada vectores como matrix, (los vectores son las filas)\n",
				"with open('vector.out/Eig3x3.mtx.txt', 'wb') as f:\n",
				"    data =  struct.pack('L',len(vlas[1]))\n",
				"    f.write(data)\n",
				"    data =  struct.pack('L',len(vlas[1][0]))\n",
				"    f.write(data)\n",
				"    for vec in vlas[1]:\n",
				"        for v in vec:\n",
				"            data =  struct.pack('d',np.float64(np.real(v)))\n",
				"            f.write(data)\n",
				"#guarda valores como vector\n",
				"with open('vector.out/Eig3x3.vec.txt', 'wb') as f:\n",
				"    data =  struct.pack('L',len(vlas[0]))\n",
				"    f.write(data)\n",
				"    for v in vlas[0]:\n",
				"        data =  struct.pack('d',np.float64(np.real(v)))\n",
				"        f.write(data)\n"
			]
		},
		{
			"cell_type": "code",
			"execution_count": null,
			"metadata": {},
			"outputs": [],
			"source": [
				"#Eig50X50\n",
				"vlas  =  np.linalg.eig(Eig50x50)\n",
				"_zip = zip(vlas[0],vlas[1])\n",
				"vlas = tuple(zip(*sorted( _zip, key=lambda x: x[0])))\n",
				"#guada vectores como matrix, (los vectores son las filas)\n",
				"with open('vector.out/Eig_50X50.mtx.txt', 'wb') as f:\n",
				"    data =  struct.pack('L',len(vlas[1]))\n",
				"    f.write(data)\n",
				"    data =  struct.pack('L',len(vlas[1][0]))\n",
				"    f.write(data)\n",
				"    for vec in vlas[1]:\n",
				"        for v in vec:\n",
				"            data =  struct.pack('d',np.float64(np.real(v)))\n",
				"            f.write(data)\n",
				"#guarda valores como vector\n",
				"with open('vector.out/Eig_50X50.vec.txt', 'wb') as f:\n",
				"    data =  struct.pack('L',len(vlas[0]))\n",
				"    f.write(data)\n",
				"    for v in vlas[0]:\n",
				"        data =  struct.pack('d',np.float64(np.real(v)))\n",
				"        f.write(data)\n"
			]
		},
		{
			"cell_type": "code",
			"execution_count": 22,
			"metadata": {},
			"outputs": [],
			"source": [
				"V_sol_3x1 =  np.linalg.solve(M_sys_3x3, V_sys_3x1)\n",
				"with open('vector.out/V_sol_3x1.vec.txt', 'wb') as f:\n",
				"    data =  struct.pack('L',len(V_sol_3x1))\n",
				"    f.write(data)\n",
				"    for v in V_sol_3x1:\n",
				"        data =  struct.pack('d',np.float64(np.real(v)))\n",
				"        f.write(data)"
			]
		},
		{
			"cell_type": "code",
			"execution_count": 23,
			"metadata": {},
			"outputs": [],
			"source": [
				"V_sol_125x1 =  np.linalg.solve(M_sys_125x125, V_sys_125x1)\n",
				"with open('vector.out/V_sol_125x1.vec.txt', 'wb') as f:\n",
				"    data =  struct.pack('L',len(V_sol_125x1))\n",
				"    f.write(data)\n",
				"    for v in V_sol_125x1:\n",
				"        data =  struct.pack('d',np.float64(np.real(v)))\n",
				"        f.write(data)"
			]
		}
	],
	"metadata": {
		"kernelspec": {
			"display_name": "Python 3.9.2 64-bit",
			"language": "python",
			"name": "python3"
		},
		"language_info": {
			"codemirror_mode": {
				"name": "ipython",
				"version": 3
			},
			"file_extension": ".py",
			"mimetype": "text/x-python",
			"name": "python",
			"nbconvert_exporter": "python",
			"pygments_lexer": "ipython3",
			"version": "3.9.2"
		},
		"orig_nbformat": 4,
		"vscode": {
			"interpreter": {
				"hash": "e7370f93d1d0cde622a1f8e1c04877d8463912d04d973331ad4851f04de6915a"
			}
		}
	},
	"nbformat": 4,
	"nbformat_minor": 2
}