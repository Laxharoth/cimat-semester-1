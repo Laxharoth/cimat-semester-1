{
	"cells": [
		{
			"cell_type": "code",
			"execution_count": 121,
			"metadata": {},
			"outputs": [],
			"source": [
				"from ast import main\n",
				"from operator import index\n",
				"import struct\n",
				"import numpy as np"
			]
		},
		{
			"cell_type": "markdown",
			"metadata": {},
			"source": [
				"Initialize expected values files"
			]
		},
		{
			"cell_type": "code",
			"execution_count": 122,
			"metadata": {},
			"outputs": [],
			"source": [
				"EigVec3x3 = []\n",
				"with open('vector.out/Eig3x3.mtx.txt', 'rb') as f:\n",
				"    rows, = struct.unpack(\"L\",f.read(struct.calcsize(\"L\")))\n",
				"    cols, = struct.unpack(\"L\",f.read(struct.calcsize(\"L\")))\n",
				"    for vec in range(rows):\n",
				"        EigVec3x3.append([])\n",
				"        for v in range(cols):\n",
				"            t = struct.unpack('d',f.read(struct.calcsize('d')))\n",
				"            EigVec3x3[vec].append(t[0])\n",
				"EigVec3x3 = np.array(EigVec3x3)\n",
				"EigVal3x3 = []\n",
				"with open('vector.out/Eig3x3.vec.txt', 'rb') as f:\n",
				"    size, = struct.unpack(\"L\",f.read(struct.calcsize(\"L\")))\n",
				"    for i in range(size):\n",
				"        t = struct.unpack('d',f.read(struct.calcsize('d')))\n",
				"        EigVal3x3.append(t[0])\n",
				"EigVal3x3 = np.array(EigVal3x3)"
			]
		},
		{
			"cell_type": "markdown",
			"metadata": {},
			"source": [
				"Initialize actual values from files"
			]
		},
		{
			"cell_type": "code",
			"execution_count": 123,
			"metadata": {},
			"outputs": [],
			"source": [
				"EigVec3x3_actual = []\n",
				"with open('vector.out/actual.pow.Eigen_3x3.mtx.txt', 'rb') as f:\n",
				"    rows, = struct.unpack(\"L\",f.read(struct.calcsize(\"L\")))\n",
				"    cols, = struct.unpack(\"L\",f.read(struct.calcsize(\"L\")))\n",
				"    for vec in range(rows):\n",
				"        EigVec3x3_actual.append([])\n",
				"        for v in range(cols):\n",
				"            t = struct.unpack('d',f.read(struct.calcsize('d')))\n",
				"            EigVec3x3_actual[vec].append(t[0])\n",
				"EigVec3x3_actual = np.array(EigVec3x3_actual)\n",
				"EigVal3x3_actual = []\n",
				"with open('vector.out/actual.pow.Eigen_3x3.vec.txt', 'rb') as f:\n",
				"    size, = struct.unpack(\"L\",f.read(struct.calcsize(\"L\")))\n",
				"    for i in range(size):\n",
				"        t = struct.unpack('d',f.read(struct.calcsize('d')))\n",
				"        EigVal3x3_actual.append(t[0])\n",
				"EigVal3x3_actual = np.array(EigVal3x3_actual)"
			]
		},
		{
			"cell_type": "markdown",
			"metadata": {},
			"source": [
				"Compare values"
			]
		},
		{
			"cell_type": "code",
			"execution_count": 124,
			"metadata": {},
			"outputs": [
				{
					"name": "stdout",
					"output_type": "stream",
					"text": [
						"Compare Subspace power iter 3x3\n",
						"Vectors\n",
						"1.091523905762173\n",
						"Values\n",
						"1.7763568394002505e-15\n"
					]
				}
			],
			"source": [
				"cmp = ( EigVec3x3[-1] - EigVec3x3_actual[0] if EigVec3x3[-1][0]*EigVec3x3_actual[0][0] > 0  else EigVec3x3[-1] + EigVec3x3_actual[0] ) +\\\n",
				"      ( EigVec3x3[-2] - EigVec3x3_actual[1] if EigVec3x3[-2][0]*EigVec3x3_actual[1][0] > 0  else EigVec3x3[-2] + EigVec3x3_actual[1] )\n",
				"print(\"Compare Subspace power iter 3x3\")\n",
				"print(\"Vectors\")\n",
				"print(np.linalg.norm(cmp)/2)\n",
				"cmp = EigVal3x3[-1] - EigVal3x3_actual[0] + EigVal3x3[-2] - EigVal3x3_actual[1]\n",
				"print(\"Values\")\n",
				"print(np.mean(cmp)/2)"
			]
		},
		{
			"cell_type": "code",
			"execution_count": 125,
			"metadata": {},
			"outputs": [],
			"source": [
				"EigVec3x3_actual = []\n",
				"with open('vector.out/actual.ipow.Eigen_3x3.mtx.txt', 'rb') as f:\n",
				"    rows, = struct.unpack(\"L\",f.read(struct.calcsize(\"L\")))\n",
				"    cols, = struct.unpack(\"L\",f.read(struct.calcsize(\"L\")))\n",
				"    for vec in range(rows):\n",
				"        EigVec3x3_actual.append([])\n",
				"        for v in range(cols):\n",
				"            t = struct.unpack('d',f.read(struct.calcsize('d')))\n",
				"            EigVec3x3_actual[vec].append(t[0])\n",
				"EigVec3x3_actual = np.array(EigVec3x3_actual)\n",
				"EigVal3x3_actual = []\n",
				"with open('vector.out/actual.ipow.Eigen_3x3.vec.txt', 'rb') as f:\n",
				"    size, = struct.unpack(\"L\",f.read(struct.calcsize(\"L\")))\n",
				"    for i in range(size):\n",
				"        t = struct.unpack('d',f.read(struct.calcsize('d')))\n",
				"        EigVal3x3_actual.append(t[0])\n",
				"EigVal3x3_actual = np.array(EigVal3x3_actual)"
			]
		},
		{
			"cell_type": "code",
			"execution_count": 126,
			"metadata": {},
			"outputs": [
				{
					"name": "stdout",
					"output_type": "stream",
					"text": [
						"Compare Subspace inverse power iter 3x3\n",
						"Vectors\n",
						"0.06686430228823577\n",
						"Values\n",
						"0.0\n"
					]
				}
			],
			"source": [
				"cmp = ( EigVec3x3[0] - EigVec3x3_actual[0] if EigVec3x3[0][0]*EigVec3x3_actual[0][0] > 0  else EigVec3x3[0] + EigVec3x3_actual[0] ) +\\\n",
				"      ( EigVec3x3[1] - EigVec3x3_actual[1] if EigVec3x3[1][0]*EigVec3x3_actual[1][0] > 0  else EigVec3x3[1] + EigVec3x3_actual[1] )\n",
				"print(\"Compare Subspace inverse power iter 3x3\")\n",
				"print(\"Vectors\")\n",
				"print(np.linalg.norm(cmp)/2)\n",
				"cmp = EigVal3x3[0] - EigVal3x3_actual[0] + EigVal3x3[1] - EigVal3x3_actual[1]\n",
				"print(\"Values\")\n",
				"print(np.mean(cmp)/2)"
			]
		},
		{
			"cell_type": "code",
			"execution_count": 127,
			"metadata": {},
			"outputs": [],
			"source": [
				"EigVec3x3_actual = []\n",
				"with open('vector.out/actual.ray.Eigen_vec_3x3.vec.txt', 'rb') as f:\n",
				"    rows, = struct.unpack(\"L\",f.read(struct.calcsize(\"L\")))\n",
				"    for vec in range(rows):\n",
				"        t = struct.unpack('d',f.read(struct.calcsize('d')))\n",
				"        EigVec3x3_actual.append(t[0])\n",
				"EigVec3x3_actual = np.array(EigVec3x3_actual)\n",
				"EigVal3x3_actual = []\n",
				"with open('vector.out/actual.ray.Eigen_val_3x3.vec.txt', 'rb') as f:\n",
				"    size, = struct.unpack(\"L\",f.read(struct.calcsize(\"L\")))\n",
				"    for i in range(size):\n",
				"        t = struct.unpack('d',f.read(struct.calcsize('d')))\n",
				"        EigVal3x3_actual.append(t[0])\n",
				"EigVal3x3_actual = np.array(EigVal3x3_actual)"
			]
		},
		{
			"cell_type": "code",
			"execution_count": 128,
			"metadata": {},
			"outputs": [
				{
					"name": "stdout",
					"output_type": "stream",
					"text": [
						"[ 2.99134332  6.97386041 10.03479626]\n",
						"[10.03479626]\n"
					]
				}
			],
			"source": [
				"print(EigVal3x3)\n",
				"print(EigVal3x3_actual)"
			]
		},
		{
			"cell_type": "code",
			"execution_count": 129,
			"metadata": {},
			"outputs": [
				{
					"name": "stdout",
					"output_type": "stream",
					"text": [
						"Compare Rayleig 3x3\n",
						"Vectors\n",
						"1.989744180416078\n",
						"Values\n",
						"1.7894485893066303e-10\n"
					]
				}
			],
			"source": [
				"cmp = ( EigVec3x3[-1] - EigVec3x3_actual if EigVec3x3[-1][0]*EigVec3x3_actual[0] > 0  else EigVec3x3[-1] + EigVec3x3_actual )\n",
				"print(\"Compare Rayleig 3x3\")\n",
				"print(\"Vectors\")\n",
				"print(np.linalg.norm(cmp))\n",
				"cmp = ( EigVal3x3[-1] - EigVal3x3_actual[0] )\n",
				"print(\"Values\")\n",
				"print(np.linalg.norm(cmp))"
			]
		},
		{
			"cell_type": "code",
			"execution_count": 130,
			"metadata": {},
			"outputs": [],
			"source": [
				"EigVec50x50 = []\n",
				"with open('vector.out/Eig_50X50.mtx.txt', 'rb') as f:\n",
				"    rows, = struct.unpack(\"L\",f.read(struct.calcsize(\"L\")))\n",
				"    cols, = struct.unpack(\"L\",f.read(struct.calcsize(\"L\")))\n",
				"    for vec in range(rows):\n",
				"        EigVec50x50.append([])\n",
				"        for v in range(cols):\n",
				"            t = struct.unpack('d',f.read(struct.calcsize('d')))\n",
				"            EigVec50x50[vec].append(t[0])\n",
				"EigVec50x50 = np.array(EigVec50x50)\n",
				"EigVal50x50 = []\n",
				"with open('vector.out/Eig_50X50.vec.txt', 'rb') as f:\n",
				"    size, = struct.unpack(\"L\",f.read(struct.calcsize(\"L\")))\n",
				"    for i in range(size):\n",
				"        t = struct.unpack('d',f.read(struct.calcsize('d')))\n",
				"        EigVal50x50.append(t[0])\n",
				"EigVal50x50 = np.array(EigVal50x50)"
			]
		},
		{
			"cell_type": "code",
			"execution_count": 151,
			"metadata": {},
			"outputs": [],
			"source": [
				"EigVec50x50_actual = []\n",
				"with open('vector.out/actual.pow.Eigen_50x50.mtx.txt', 'rb') as f:\n",
				"    rows, = struct.unpack(\"L\",f.read(struct.calcsize(\"L\")))\n",
				"    cols, = struct.unpack(\"L\",f.read(struct.calcsize(\"L\")))\n",
				"    for vec in range(rows):\n",
				"        EigVec50x50_actual.append([])\n",
				"        for v in range(cols):\n",
				"            t = struct.unpack('d',f.read(struct.calcsize('d')))\n",
				"            EigVec50x50_actual[vec].append(t[0])\n",
				"EigVec50x50_actual = np.array(EigVec50x50_actual)\n",
				"EigVal50x50_actual = []\n",
				"with open('vector.out/actual.pow.Eigen_50x50.vec.txt', 'rb') as f:\n",
				"    size, = struct.unpack(\"L\",f.read(struct.calcsize(\"L\")))\n",
				"    for i in range(size):\n",
				"        t = struct.unpack('d',f.read(struct.calcsize('d')))\n",
				"        EigVal50x50_actual.append(t[0])\n",
				"EigVal50x50_actual = np.array(EigVal50x50_actual)"
			]
		},
		{
			"cell_type": "code",
			"execution_count": 152,
			"metadata": {},
			"outputs": [
				{
					"name": "stdout",
					"output_type": "stream",
					"text": [
						"Compare Subspace power 50x50\n",
						"Vectors\n",
						"1.000089471298988\n",
						"Values\n",
						"7.120360123735736e-08\n"
					]
				}
			],
			"source": [
				"cmp = ( EigVec50x50[-1] - EigVec50x50_actual[0] if EigVec50x50[-1][0]*EigVec50x50_actual[0][0] > 0  else EigVec50x50[-1] + EigVec50x50_actual[0] ) +\\\n",
				"      ( EigVec50x50[-2] - EigVec50x50_actual[1] if EigVec50x50[-2][0]*EigVec50x50_actual[1][0] > 0  else EigVec50x50[-2] + EigVec50x50_actual[1] )\n",
				"print(\"Compare Subspace power 50x50\")\n",
				"print(\"Vectors\")\n",
				"print(np.linalg.norm(cmp)/2)\n",
				"cmp = EigVal50x50[-1] - EigVal50x50_actual[0] + EigVal50x50[-2] - EigVal50x50_actual[1]\n",
				"print(\"Values\")\n",
				"print(abs(np.mean(cmp)/2))"
			]
		},
		{
			"cell_type": "code",
			"execution_count": 133,
			"metadata": {},
			"outputs": [],
			"source": [
				"EigVec50x50_actual = []\n",
				"with open('vector.out/actual.ipow.Eigen_50x50.mtx.txt', 'rb') as f:\n",
				"    rows, = struct.unpack(\"L\",f.read(struct.calcsize(\"L\")))\n",
				"    cols, = struct.unpack(\"L\",f.read(struct.calcsize(\"L\")))\n",
				"    for vec in range(rows):\n",
				"        EigVec50x50_actual.append([])\n",
				"        for v in range(cols):\n",
				"            t = struct.unpack('d',f.read(struct.calcsize('d')))\n",
				"            EigVec50x50_actual[vec].append(t[0])\n",
				"EigVec50x50_actual = np.array(EigVec50x50_actual)\n",
				"EigVal50x50_actual = []\n",
				"with open('vector.out/actual.ipow.Eigen_50x50.vec.txt', 'rb') as f:\n",
				"    size, = struct.unpack(\"L\",f.read(struct.calcsize(\"L\")))\n",
				"    for i in range(size):\n",
				"        t = struct.unpack('d',f.read(struct.calcsize('d')))\n",
				"        EigVal50x50_actual.append(t[0])\n",
				"EigVal50x50_actual = np.array(EigVal50x50_actual)"
			]
		},
		{
			"cell_type": "code",
			"execution_count": 134,
			"metadata": {},
			"outputs": [
				{
					"name": "stdout",
					"output_type": "stream",
					"text": [
						"Compare Subspace inverse power iter 50x50\n",
						"Vectors\n",
						"0.007071017233244813\n",
						"Values\n",
						"9.414691248821327e-14\n"
					]
				}
			],
			"source": [
				"cmp = ( EigVec50x50[0] - EigVec50x50_actual[0] if EigVec50x50[0][0]*EigVec50x50_actual[0][0] > 0  else EigVec50x50[0] + EigVec50x50_actual[0] ) +\\\n",
				"      ( EigVec50x50[1] - EigVec50x50_actual[1] if EigVec50x50[1][0]*EigVec50x50_actual[1][0] > 0  else EigVec50x50[1] + EigVec50x50_actual[1] )\n",
				"print(\"Compare Subspace inverse power iter 50x50\")\n",
				"print(\"Vectors\")\n",
				"print(np.linalg.norm(cmp)/2)\n",
				"cmp = EigVal50x50[0] - EigVal50x50_actual[0] + EigVal50x50[1] - EigVal50x50_actual[1]\n",
				"print(\"Values\")\n",
				"print(np.mean(cmp)/2)"
			]
		},
		{
			"cell_type": "code",
			"execution_count": 135,
			"metadata": {},
			"outputs": [],
			"source": [
				"EigVec50x50_actual = []\n",
				"with open('vector.out/actual.ray.Eigen_vec_50x50.vec.txt', 'rb') as f:\n",
				"    rows, = struct.unpack(\"L\",f.read(struct.calcsize(\"L\")))\n",
				"    for vec in range(rows):\n",
				"        t = struct.unpack('d',f.read(struct.calcsize('d')))\n",
				"        EigVec50x50_actual.append(t[0])\n",
				"EigVec50x50_actual = np.array(EigVec50x50_actual)\n",
				"EigVal50x50_actual = []\n",
				"with open('vector.out/actual.ray.Eigen_val_50x50.vec.txt', 'rb') as f:\n",
				"    size, = struct.unpack(\"L\",f.read(struct.calcsize(\"L\")))\n",
				"    for i in range(size):\n",
				"        t = struct.unpack('d',f.read(struct.calcsize('d')))\n",
				"        EigVal50x50_actual.append(t[0])\n",
				"EigVal50x50_actual = np.array(EigVal50x50_actual)"
			]
		},
		{
			"cell_type": "code",
			"execution_count": 136,
			"metadata": {},
			"outputs": [
				{
					"name": "stdout",
					"output_type": "stream",
					"text": [
						"Compare Rayleigh 50x50\n",
						"Vectors\n",
						"1.4150535935662825\n",
						"Values\n",
						"1.9895196601282805e-13\n"
					]
				}
			],
			"source": [
				"index = (np.abs(EigVal50x50 - EigVal50x50_actual[0])).argmin()\n",
				"cmp = ( EigVec50x50[index] - EigVec50x50_actual if EigVec50x50[index][0]*EigVec50x50_actual[0] > 0  else EigVec50x50[index] + EigVec50x50_actual )\n",
				"print(\"Compare Rayleigh 50x50\")\n",
				"print(\"Vectors\")\n",
				"print(np.linalg.norm(cmp))\n",
				"cmp = ( EigVal50x50[index] - EigVal50x50_actual[0] )\n",
				"print(\"Values\")\n",
				"print(np.linalg.norm(cmp))"
			]
		},
		{
			"cell_type": "markdown",
			"metadata": {},
			"source": [
				"Sistemas de equaciones"
			]
		},
		{
			"cell_type": "code",
			"execution_count": 137,
			"metadata": {},
			"outputs": [],
			"source": [
				"variables = []\n",
				"with open('vector.out/V_sol_3x1.vec.txt', 'rb') as f:\n",
				"    size, = struct.unpack(\"L\",f.read(struct.calcsize(\"L\")))\n",
				"    for i in range(size):\n",
				"        t = struct.unpack('d',f.read(struct.calcsize('d')))\n",
				"        variables.append(t[0])\n",
				"variables = np.array(variables)"
			]
		},
		{
			"cell_type": "code",
			"execution_count": 138,
			"metadata": {},
			"outputs": [],
			"source": [
				"actual_variables = []\n",
				"with open('vector.out/actual.QR.V_sol_3x1.vec.txt', 'rb') as f:\n",
				"    size, = struct.unpack(\"L\",f.read(struct.calcsize(\"L\")))\n",
				"    for i in range(size):\n",
				"        t = struct.unpack('d',f.read(struct.calcsize('d')))\n",
				"        actual_variables.append(t[0])\n",
				"actual_variables = np.array(actual_variables)"
			]
		},
		{
			"cell_type": "code",
			"execution_count": 139,
			"metadata": {},
			"outputs": [
				{
					"name": "stdout",
					"output_type": "stream",
					"text": [
						"Compare QR 3x3\n",
						"0.15202019009987716\n"
					]
				}
			],
			"source": [
				"cmp = variables-actual_variables\n",
				"print(\"Compare QR 3x3\")\n",
				"print(np.linalg.norm(cmp))"
			]
		},
		{
			"cell_type": "code",
			"execution_count": 140,
			"metadata": {},
			"outputs": [],
			"source": [
				"actual_variables = []\n",
				"with open('vector.out/actual.Grad.V_sol_3x1.vec.txt', 'rb') as f:\n",
				"    size, = struct.unpack(\"L\",f.read(struct.calcsize(\"L\")))\n",
				"    for i in range(size):\n",
				"        t = struct.unpack('d',f.read(struct.calcsize('d')))\n",
				"        actual_variables.append(t[0])\n",
				"actual_variables = np.array(actual_variables)"
			]
		},
		{
			"cell_type": "code",
			"execution_count": 141,
			"metadata": {},
			"outputs": [
				{
					"name": "stdout",
					"output_type": "stream",
					"text": [
						"Compare Gradient 3x3\n",
						"1.4067309820628111e-05\n"
					]
				}
			],
			"source": [
				"cmp = variables-actual_variables\n",
				"print(\"Compare Gradient 3x3\")\n",
				"print(np.linalg.norm(cmp))"
			]
		},
		{
			"cell_type": "code",
			"execution_count": 142,
			"metadata": {},
			"outputs": [],
			"source": [
				"actual_variables = []\n",
				"with open('vector.out/actual.GradJ.V_sol_3x1.vec.txt', 'rb') as f:\n",
				"    size, = struct.unpack(\"L\",f.read(struct.calcsize(\"L\")))\n",
				"    for i in range(size):\n",
				"        t = struct.unpack('d',f.read(struct.calcsize('d')))\n",
				"        actual_variables.append(t[0])\n",
				"actual_variables = np.array(actual_variables)"
			]
		},
		{
			"cell_type": "code",
			"execution_count": 143,
			"metadata": {},
			"outputs": [
				{
					"name": "stdout",
					"output_type": "stream",
					"text": [
						"Compare Gradient with Jacobi 3x3\n",
						"0.3124515147937287\n"
					]
				}
			],
			"source": [
				"cmp = variables-actual_variables\n",
				"print(\"Compare Gradient with Jacobi 3x3\")\n",
				"print(np.linalg.norm(cmp))"
			]
		},
		{
			"cell_type": "code",
			"execution_count": 144,
			"metadata": {},
			"outputs": [],
			"source": [
				"variables = []\n",
				"with open('vector.out/V_sol_125x1.vec.txt', 'rb') as f:\n",
				"    size, = struct.unpack(\"L\",f.read(struct.calcsize(\"L\")))\n",
				"    for i in range(size):\n",
				"        t = struct.unpack('d',f.read(struct.calcsize('d')))\n",
				"        variables.append(t[0])\n",
				"variables = np.array(variables)"
			]
		},
		{
			"cell_type": "code",
			"execution_count": 145,
			"metadata": {},
			"outputs": [],
			"source": [
				"actual_variables = []\n",
				"with open('vector.out/actual.QR.V_sol_125x1.vec.txt', 'rb') as f:\n",
				"    size, = struct.unpack(\"L\",f.read(struct.calcsize(\"L\")))\n",
				"    for i in range(size):\n",
				"        t = struct.unpack('d',f.read(struct.calcsize('d')))\n",
				"        actual_variables.append(t[0])\n",
				"actual_variables = np.array(actual_variables)"
			]
		},
		{
			"cell_type": "code",
			"execution_count": 146,
			"metadata": {},
			"outputs": [
				{
					"name": "stdout",
					"output_type": "stream",
					"text": [
						"Compare QR 125x125\n",
						"4.096409661636671\n"
					]
				}
			],
			"source": [
				"cmp = variables-actual_variables\n",
				"print(\"Compare QR 125x125\")\n",
				"print(np.linalg.norm(cmp))"
			]
		},
		{
			"cell_type": "code",
			"execution_count": 147,
			"metadata": {},
			"outputs": [],
			"source": [
				"actual_variables = []\n",
				"with open('vector.out/actual.Grad.V_sol_125x1.vec.txt', 'rb') as f:\n",
				"    size, = struct.unpack(\"L\",f.read(struct.calcsize(\"L\")))\n",
				"    for i in range(size):\n",
				"        t = struct.unpack('d',f.read(struct.calcsize('d')))\n",
				"        actual_variables.append(t[0])\n",
				"actual_variables = np.array(actual_variables)"
			]
		},
		{
			"cell_type": "code",
			"execution_count": 148,
			"metadata": {},
			"outputs": [
				{
					"name": "stdout",
					"output_type": "stream",
					"text": [
						"Compare Gradient 125x125\n",
						"4.097510273815128\n"
					]
				}
			],
			"source": [
				"cmp = variables-actual_variables\n",
				"print(\"Compare Gradient 125x125\")\n",
				"print(np.linalg.norm(cmp))"
			]
		},
		{
			"cell_type": "code",
			"execution_count": 149,
			"metadata": {},
			"outputs": [],
			"source": [
				"actual_variables = []\n",
				"with open('vector.out/actual.GradJ.V_sol_125x1.vec.txt', 'rb') as f:\n",
				"    size, = struct.unpack(\"L\",f.read(struct.calcsize(\"L\")))\n",
				"    for i in range(size):\n",
				"        t = struct.unpack('d',f.read(struct.calcsize('d')))\n",
				"        actual_variables.append(t[0])\n",
				"actual_variables = np.array(actual_variables)"
			]
		},
		{
			"cell_type": "code",
			"execution_count": 150,
			"metadata": {},
			"outputs": [
				{
					"name": "stdout",
					"output_type": "stream",
					"text": [
						"Compare Gradient with Jacobi 125x125\n",
						"4.054018891020612\n"
					]
				}
			],
			"source": [
				"cmp = variables-actual_variables\n",
				"print(\"Compare Gradient with Jacobi 125x125\")\n",
				"print(np.linalg.norm(cmp))"
			]
		}
	],
	"metadata": {
		"kernelspec": {
			"display_name": "Python 3.9.2 64-bit",
			"language": "python",
			"name": "python3"
		},
		"language_info": {
			"codemirror_mode": {
				"name": "ipython",
				"version": 3
			},
			"file_extension": ".py",
			"mimetype": "text/x-python",
			"name": "python",
			"nbconvert_exporter": "python",
			"pygments_lexer": "ipython3",
			"version": "3.9.2"
		},
		"orig_nbformat": 4,
		"vscode": {
			"interpreter": {
				"hash": "e7370f93d1d0cde622a1f8e1c04877d8463912d04d973331ad4851f04de6915a"
			}
		}
	},
	"nbformat": 4,
	"nbformat_minor": 2
}